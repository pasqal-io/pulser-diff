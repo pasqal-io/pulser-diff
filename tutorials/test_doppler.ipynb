{
 "cells": [
  {
   "cell_type": "code",
   "execution_count": 1,
   "metadata": {},
   "outputs": [],
   "source": [
    "import torch\n",
    "\n",
    "from pulser_diff.backend import TorchEmulator\n",
    "from pulser_diff.pulser import Register, Sequence, Pulse\n",
    "from pulser_diff.pulser.waveforms import ConstantWaveform\n",
    "from pulser_diff.pulser.devices import MockDevice\n",
    "from pulser_diff.pulser_simulation import SimConfig\n"
   ]
  },
  {
   "cell_type": "code",
   "execution_count": 4,
   "metadata": {},
   "outputs": [
    {
     "name": "stdout",
     "output_type": "stream",
     "text": [
      "{'q0': tensor(0.7898), 'q1': tensor(2.2329), 'q2': tensor(-2.5670), 'q3': tensor(3.7050), 'q4': tensor(-1.6396), 'q5': tensor(0.4744), 'q6': tensor(-3.0174), 'q7': tensor(-2.2278), 'q8': tensor(-4.3640)}\n",
      "tensor(-9.1854e-08+7.5387e-07j, grad_fn=<SelectBackward0>)\n",
      "{'q0': tensor(2.2256), 'q1': tensor(-1.6533), 'q2': tensor(-2.1225), 'q3': tensor(-1.2937), 'q4': tensor(3.5540), 'q5': tensor(-0.1639), 'q6': tensor(-0.4443), 'q7': tensor(0.1061), 'q8': tensor(-2.1424)}\n",
      "tensor(-4.5518e-07-3.8570e-07j, grad_fn=<SelectBackward0>)\n",
      "{'q0': tensor(0.0635), 'q1': tensor(4.5877), 'q2': tensor(-0.8059), 'q3': tensor(-1.0875), 'q4': tensor(1.7961), 'q5': tensor(0.7814), 'q6': tensor(-2.0382), 'q7': tensor(0.9599), 'q8': tensor(0.8329)}\n",
      "tensor(-1.1910e-06-9.6350e-07j, grad_fn=<SelectBackward0>)\n",
      "{'q0': tensor(-0.0547), 'q1': tensor(-0.5456), 'q2': tensor(0.1845), 'q3': tensor(-1.0239), 'q4': tensor(-2.4785), 'q5': tensor(-0.8654), 'q6': tensor(2.0183), 'q7': tensor(-2.1343), 'q8': tensor(-0.7415)}\n",
      "tensor(-7.7078e-07+6.3652e-08j, grad_fn=<SelectBackward0>)\n",
      "{'q0': tensor(-2.8442), 'q1': tensor(3.9577), 'q2': tensor(-3.7575), 'q3': tensor(-5.1477), 'q4': tensor(-2.4623), 'q5': tensor(-3.2854), 'q6': tensor(-1.7426), 'q7': tensor(-2.8121), 'q8': tensor(-1.6662)}\n",
      "tensor(2.9689e-07+3.6991e-07j, grad_fn=<SelectBackward0>)\n"
     ]
    }
   ],
   "source": [
    "N = 2\n",
    "\n",
    "reg = Register.square(N, torch.tensor([8.0]), prefix=\"q\")\n",
    "seq = Sequence(reg, MockDevice)\n",
    "seq.declare_channel(\"rydberg_global\", \"rydberg_global\")\n",
    "seq.add(Pulse(\n",
    "            amplitude=ConstantWaveform(500, torch.tensor([5.0])),\n",
    "            detuning=ConstantWaveform(500, torch.tensor([1.0], requires_grad=True)),\n",
    "            phase=0.0\n",
    "            ),\n",
    "        \"rydberg_global\")\n",
    "\n",
    "config = SimConfig(noise=\"doppler\", temperature=torch.tensor([1000]))\n",
    "\n",
    "for k in range(5):\n",
    "    sim = TorchEmulator.from_sequence(seq)\n",
    "    sim.set_config(config)\n",
    "    print(sim._hamiltonian._doppler_detune)\n",
    "    sim_results = sim.run(time_grad=True, solver=\"dq_me\")\n",
    "    print(sim_results.states[-1][0,0])"
   ]
  }
 ],
 "metadata": {
  "kernelspec": {
   "display_name": "pulser-diff",
   "language": "python",
   "name": "python3"
  },
  "language_info": {
   "codemirror_mode": {
    "name": "ipython",
    "version": 3
   },
   "file_extension": ".py",
   "mimetype": "text/x-python",
   "name": "python",
   "nbconvert_exporter": "python",
   "pygments_lexer": "ipython3",
   "version": "3.10.12"
  }
 },
 "nbformat": 4,
 "nbformat_minor": 2
}
