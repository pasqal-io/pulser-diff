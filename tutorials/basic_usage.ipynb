{
 "cells": [
  {
   "cell_type": "markdown",
   "metadata": {},
   "source": [
    "## Introduction"
   ]
  },
  {
   "cell_type": "markdown",
   "metadata": {},
   "source": [
    "This notebook gives an overview of the `pulser-diff` package and introduces its features and possibilities. `pulser-diff` in its essence is a PyTorch-based differentiable backend for [Pulser](https://pulser.readthedocs.io/en/stable/) framework that allows composing, simulating and executing pulse sequences for neutral-atom quantum devices. Being differentiable means that the result of Schrodinger equation solver can be differentiated with respect to sequence evaluation times $\\{t_i\\}_{i=1}^{N}$ or any parameters that define the constituent pulses of the sequence, e. g., amplitude $\\Omega$, detuning $\\delta$ or phase $\\Phi$. This feature is facilitated by the auto-differentiation capabilities of the underlying `torch` library. \n",
    "\n",
    "Differentiability of `pulser-diff`'s simulation result $\\psi(\\theta_i)$ with respect to various sequence parameters $\\theta_i$ also means that user can implement optimization strategies based on minimization of an arbitrary user-defined loss function $l(\\theta_i)$. This opens the possibility to optimize pulse parameters in different contexts, such as finding the best parameters for some state preparation problem or the optimal shape of pulses that implement the desired gate with highest fidelity on a given quantum machine with specific hardware constraints. \n",
    "\n",
    "In the following sections we will present both the low-level features of `pulser-diff` showing how to calculate explicit derivatives and visualize them and the higher-level optimization API for various pulse optimization tasks."
   ]
  },
  {
   "cell_type": "markdown",
   "metadata": {},
   "source": [
    "## 1. Derivative calculation"
   ]
  },
  {
   "cell_type": "markdown",
   "metadata": {},
   "source": [
    "First we import the necessary objects from `pulser` and `pyqtorch`."
   ]
  },
  {
   "cell_type": "code",
   "execution_count": 1,
   "metadata": {},
   "outputs": [],
   "source": [
    "import torch\n",
    "\n",
    "from pulser import Sequence, Pulse, Register\n",
    "from pulser.devices import MockDevice\n",
    "from pulser.waveforms import BlackmanWaveform, RampWaveform\n",
    "\n",
    "from pulser_diff.backend import TorchEmulator\n",
    "from pulser_diff.derivative import deriv_time, deriv_param\n",
    "from pulser_diff.utils import IMAT, ZMAT, kron\n",
    "\n",
    "import matplotlib.pyplot as plt\n",
    "from scipy import interpolate\n",
    "\n",
    "from pyqtorch.utils import SolverType"
   ]
  },
  {
   "cell_type": "markdown",
   "metadata": {},
   "source": [
    "### 1.1 Defining the sequence"
   ]
  },
  {
   "cell_type": "markdown",
   "metadata": {},
   "source": [
    "Since `pulser-diff` is a backend of Pulser, the general workflow of defining a pulse sequence is identical. Thus, first we define the register. Note that the coordinates of qubits $(x_i, y_i)$ are differentiable parameters."
   ]
  },
  {
   "cell_type": "code",
   "execution_count": 2,
   "metadata": {},
   "outputs": [
    {
     "name": "stdout",
     "output_type": "stream",
     "text": [
      "Register({'q0': tensor([0., 0.], dtype=torch.float64, grad_fn=<SelectBackward0>), 'q1': tensor([0., 8.], dtype=torch.float64, grad_fn=<SelectBackward0>), 'q2': tensor([8., 0.], dtype=torch.float64, grad_fn=<SelectBackward0>), 'q3': tensor([8., 8.], dtype=torch.float64, grad_fn=<SelectBackward0>)})\n"
     ]
    }
   ],
   "source": [
    "# define coordinates of 4 qubits as torch tensors\n",
    "# requires_grad=True instructs the auto-differentiation engine that gradients will be stored for these tensors \n",
    "# that will allow derivatives with respect to these parameters be calculated\n",
    "q0_coords = torch.tensor([0.0, 0.0], requires_grad=True)\n",
    "q1_coords = torch.tensor([0.0, 8.0], requires_grad=True)\n",
    "q2_coords = torch.tensor([8.0, 0.0], requires_grad=True)\n",
    "q3_coords = torch.tensor([8.0, 8.0], requires_grad=True)\n",
    "\n",
    "# create register\n",
    "reg = Register({\"q0\": q0_coords, \"q1\": q1_coords, \"q2\": q2_coords, \"q3\": q3_coords})\n",
    "print(reg)"
   ]
  },
  {
   "cell_type": "markdown",
   "metadata": {},
   "source": [
    "Now we create an empty sequence, define channels and define the parameters of pulses that will be added to the sequence."
   ]
  },
  {
   "cell_type": "code",
   "execution_count": 3,
   "metadata": {},
   "outputs": [],
   "source": [
    "# create sequence and declare channels\n",
    "seq = Sequence(reg, MockDevice)\n",
    "seq.declare_channel(\"rydberg_global\", \"rydberg_global\")\n",
    "\n",
    "# define pulse parameters\n",
    "omega = torch.tensor([5.0], requires_grad=True)\n",
    "start_det = torch.tensor([-5.0], requires_grad=True)\n",
    "area = torch.tensor([torch.pi], requires_grad=True)\n",
    "det = torch.tensor([0.0], requires_grad=True)\n",
    "phase = torch.tensor([0.0], requires_grad=True)\n",
    "\n",
    "# define time-dependent waveforms\n",
    "amp_wf = BlackmanWaveform(800, area)\n",
    "det_wf = RampWaveform(800, start_det, 0.0)\n",
    "\n",
    "# add pulses\n",
    "seq.add(Pulse(amp_wf, det_wf, 0), \"rydberg_global\")\n",
    "seq.add(Pulse.ConstantPulse(800, omega, det, phase), \"rydberg_global\")"
   ]
  },
  {
   "cell_type": "markdown",
   "metadata": {},
   "source": [
    "Note that all pulse parameters above created as tensors are created with `requires_grad=True` argument, however if differentiation with respect to some of them won't be performed, it is beneficial to set `requires_grad=False` for those parameters in order to save memory. \n",
    "\n",
    "When creating pulses we can mix `torch` tensors and simple `float` values as pulse parameters."
   ]
  },
  {
   "cell_type": "markdown",
   "metadata": {},
   "source": [
    "Sequence simulation is performed using the standard Pulser interface, however we use the `torch`-based `TorchEmulator` class from `pulser-diff` to perform the simulation instead of the `QutipEmulator` that uses `qutip` package in Pulser."
   ]
  },
  {
   "cell_type": "code",
   "execution_count": 4,
   "metadata": {},
   "outputs": [],
   "source": [
    "sim = TorchEmulator.from_sequence(seq, sampling_rate=0.1)\n",
    "results = sim.run(time_grad=True, dist_grad=True, solver=SolverType.DP5_SE)"
   ]
  },
  {
   "cell_type": "markdown",
   "metadata": {},
   "source": [
    "Argument `time_grad=True` instructs the simulation to store gradients for evaluation times, thus allowing later to calculate derivative of the output with respect to these times. `dist_grad=True` means that we will be able to calculate derivatives with respect to inter-qubit distances $r_{ij}$ . We can also specify, what solver from `pyqtorch` library to use for quantum dynamics simulation: `DP5_SE` - selects the Dormand-Prince-5 state vector solver, `KRYLOV_SE` selects the Krylov subspace method state vector solver.\n",
    "\n",
    "`results` object contains the values of the system's wavefunction at times stored in the `sim.evaluation_times` tensor. Both of these quantities are `torch` tensors."
   ]
  },
  {
   "cell_type": "code",
   "execution_count": 5,
   "metadata": {},
   "outputs": [
    {
     "name": "stdout",
     "output_type": "stream",
     "text": [
      "Evaluation times:\n",
      "tensor([0.0000, 0.0100, 0.0200, 0.0300, 0.0400, 0.0500, 0.0600, 0.0700, 0.0800,\n",
      "        0.0900, 0.1000, 0.1100, 0.1200, 0.1300, 0.1400, 0.1500, 0.1610, 0.1710,\n",
      "        0.1810, 0.1910, 0.2010, 0.2110, 0.2210, 0.2310, 0.2410, 0.2510, 0.2610,\n",
      "        0.2710, 0.2810, 0.2910, 0.3010, 0.3110, 0.3220, 0.3320, 0.3420, 0.3520,\n",
      "        0.3620, 0.3720, 0.3820, 0.3920, 0.4020, 0.4120, 0.4220, 0.4320, 0.4420,\n",
      "        0.4520, 0.4620, 0.4720, 0.4830, 0.4930, 0.5030, 0.5130, 0.5230, 0.5330,\n",
      "        0.5430, 0.5530, 0.5630, 0.5730, 0.5830, 0.5930, 0.6030, 0.6130, 0.6230,\n",
      "        0.6330, 0.6440, 0.6540, 0.6640, 0.6740, 0.6840, 0.6940, 0.7040, 0.7140,\n",
      "        0.7240, 0.7340, 0.7440, 0.7540, 0.7640, 0.7740, 0.7840, 0.7940, 0.8050,\n",
      "        0.8150, 0.8250, 0.8350, 0.8450, 0.8550, 0.8650, 0.8750, 0.8850, 0.8950,\n",
      "        0.9050, 0.9150, 0.9250, 0.9350, 0.9450, 0.9550, 0.9660, 0.9760, 0.9860,\n",
      "        0.9960, 1.0060, 1.0160, 1.0260, 1.0360, 1.0460, 1.0560, 1.0660, 1.0760,\n",
      "        1.0860, 1.0960, 1.1060, 1.1160, 1.1270, 1.1370, 1.1470, 1.1570, 1.1670,\n",
      "        1.1770, 1.1870, 1.1970, 1.2070, 1.2170, 1.2270, 1.2370, 1.2470, 1.2570,\n",
      "        1.2670, 1.2770, 1.2880, 1.2980, 1.3080, 1.3180, 1.3280, 1.3380, 1.3480,\n",
      "        1.3580, 1.3680, 1.3780, 1.3880, 1.3980, 1.4080, 1.4180, 1.4280, 1.4380,\n",
      "        1.4490, 1.4590, 1.4690, 1.4790, 1.4890, 1.4990, 1.5090, 1.5190, 1.5290,\n",
      "        1.5390, 1.5490, 1.5590, 1.5690, 1.5790, 1.5890, 1.6000],\n",
      "       dtype=torch.float64, requires_grad=True)\n",
      "\n",
      "Wavefunctions:\n",
      "tensor([[[ 0.0000e+00+0.0000e+00j],\n",
      "         [ 0.0000e+00+0.0000e+00j],\n",
      "         [ 0.0000e+00+0.0000e+00j],\n",
      "         ...,\n",
      "         [ 0.0000e+00+0.0000e+00j],\n",
      "         [ 0.0000e+00+0.0000e+00j],\n",
      "         [ 1.0000e+00+0.0000e+00j]],\n",
      "\n",
      "        [[ 2.8051e-20-7.5226e-21j],\n",
      "         [ 3.0453e-16+2.1964e-15j],\n",
      "         [ 3.0453e-16+2.1964e-15j],\n",
      "         ...,\n",
      "         [-2.1551e-07-1.3052e-05j],\n",
      "         [-2.1551e-07-1.3052e-05j],\n",
      "         [ 1.0000e+00+4.5088e-12j]],\n",
      "\n",
      "        [[ 3.4985e-17-1.5168e-17j],\n",
      "         [ 1.0538e-13+4.7094e-13j],\n",
      "         [ 1.0538e-13+4.7094e-13j],\n",
      "         ...,\n",
      "         [-2.1384e-06-7.8628e-05j],\n",
      "         [-2.1384e-06-7.8628e-05j],\n",
      "         [ 1.0000e+00+2.9262e-10j]],\n",
      "\n",
      "        ...,\n",
      "\n",
      "        [[ 8.7875e-03+8.3862e-03j],\n",
      "         [-3.4528e-02-3.8154e-02j],\n",
      "         [-3.4528e-02-3.8154e-02j],\n",
      "         ...,\n",
      "         [-4.1323e-02-1.3517e-01j],\n",
      "         [-4.1323e-02-1.3517e-01j],\n",
      "         [-7.4824e-01+2.6820e-01j]],\n",
      "\n",
      "        [[ 1.0735e-02+3.2853e-03j],\n",
      "         [-3.9119e-02-2.7055e-02j],\n",
      "         [-3.9119e-02-2.7055e-02j],\n",
      "         ...,\n",
      "         [-2.4931e-02-1.2133e-01j],\n",
      "         [-2.4931e-02-1.2133e-01j],\n",
      "         [-7.6107e-01+2.7151e-01j]],\n",
      "\n",
      "        [[ 8.8444e-03-2.1945e-03j],\n",
      "         [-3.8070e-02-1.4566e-02j],\n",
      "         [-3.8070e-02-1.4566e-02j],\n",
      "         ...,\n",
      "         [-6.3890e-03-1.0636e-01j],\n",
      "         [-6.3890e-03-1.0636e-01j],\n",
      "         [-7.7359e-01+2.7324e-01j]]], dtype=torch.complex128,\n",
      "       grad_fn=<StackBackward0>)\n"
     ]
    }
   ],
   "source": [
    "print(\"Evaluation times:\")\n",
    "print(sim.evaluation_times)\n",
    "print()\n",
    "print(\"Wavefunctions:\")\n",
    "print(results.states)"
   ]
  },
  {
   "cell_type": "markdown",
   "metadata": {},
   "source": [
    "Using the `results` object we can further calculate the necessary quantities, e. g., using the `expect` method get the expectation values at each evaluation time moment with some observable $\\hat{C}$. "
   ]
  },
  {
   "cell_type": "code",
   "execution_count": 6,
   "metadata": {},
   "outputs": [],
   "source": [
    "# create total magnetization observable\n",
    "n_qubits = len(reg._coords)\n",
    "total_magnetization = []\n",
    "for i in range(n_qubits):\n",
    "    tprod = [IMAT for _ in range(n_qubits)]\n",
    "    tprod[i] = ZMAT\n",
    "    total_magnetization.append(kron(*tprod))\n",
    "total_magnetization = sum(total_magnetization)\n",
    "\n",
    "# calculate expectation values\n",
    "exp_val = results.expect([total_magnetization])[0].real"
   ]
  },
  {
   "cell_type": "markdown",
   "metadata": {},
   "source": [
    "### 1.2 Calculating derivative with respect to time"
   ]
  },
  {
   "cell_type": "markdown",
   "metadata": {},
   "source": [
    "To calculate derivative with respect to time we get the evaluation times tensor and use `deriv_time` function."
   ]
  },
  {
   "cell_type": "code",
   "execution_count": 7,
   "metadata": {},
   "outputs": [],
   "source": [
    "# calculate derivative\n",
    "eval_times = sim.evaluation_times\n",
    "pulse_endtimes = sim.endtimes\n",
    "grad_time = deriv_time(f=exp_val, times=eval_times, pulse_endtimes=pulse_endtimes)"
   ]
  },
  {
   "cell_type": "markdown",
   "metadata": {},
   "source": [
    "The last argument `pulse_endtimes` to function `deriv_time` is used to provide the indices of pulse start/end times in the `eval_times` tensor. This is needed to fix possible spikes of derivative on the boundary between two ideal pulses.\n",
    "\n",
    "In order to check that the calculated time derivative is correct we can create an interpolated function from expectation values using `scipy.interpolate` and find the corresponding derivative."
   ]
  },
  {
   "cell_type": "code",
   "execution_count": 8,
   "metadata": {},
   "outputs": [
    {
     "data": {
      "text/plain": [
       "<matplotlib.legend.Legend at 0x786bd719e4f0>"
      ]
     },
     "execution_count": 8,
     "metadata": {},
     "output_type": "execute_result"
    },
    {
     "data": {
      "image/png": "[encoded data removed]",
      "text/plain": [
       "<Figure size 640x480 with 1 Axes>"
      ]
     },
     "metadata": {},
     "output_type": "display_data"
    }
   ],
   "source": [
    "# calculate exact derivative with respect to time\n",
    "x = eval_times.detach().numpy()\n",
    "y = exp_val.detach().numpy()\n",
    "interp_fx = interpolate.UnivariateSpline(x, y, k=5, s=0)\n",
    "dfdt_exact = interp_fx.derivative()(x)\n",
    "\n",
    "# visualize expectation values and time derivatives\n",
    "plt.plot(x, y, label=\"f(x)\")\n",
    "plt.scatter(x, grad_time.detach().numpy(), s=2, label=\"df/dt (auto-diff)\")\n",
    "plt.plot(x, dfdt_exact, label=\"df/dt (interpolated, exact)\")\n",
    "plt.legend()"
   ]
  },
  {
   "cell_type": "markdown",
   "metadata": {},
   "source": [
    "We can see that time derivative calculated using `torch` auto-differentiation engine closely corresponds to the exact derivative."
   ]
  },
  {
   "cell_type": "markdown",
   "metadata": {},
   "source": [
    "### 1.3 Calculating derivative with respect to pulse/register parameters"
   ]
  },
  {
   "cell_type": "markdown",
   "metadata": {},
   "source": [
    "The workflow is generally the same as when calculating time derivative only now we will use function `deriv_param` provided by `pulser-diff`.\n",
    "\n",
    "Let us calculate derivatives of expectation value with respect to amplitude `omega` of the second constant pulse of the sequence, to coordinates of qubit `q1` and inter-qubit distance `r` between qubits `q1` and `q3`. We can obtain all these derivative values by passing the necessary parameters to `deriv_param` in a single list."
   ]
  },
  {
   "cell_type": "code",
   "execution_count": 9,
   "metadata": {},
   "outputs": [
    {
     "data": {
      "text/plain": [
       "tensor([-4.0000, -4.0000, -4.0000, -4.0000, -4.0000, -4.0000, -4.0000, -3.9999,\n",
       "        -3.9998, -3.9996, -3.9992, -3.9986, -3.9975, -3.9959, -3.9933, -3.9894,\n",
       "        -3.9831, -3.9746, -3.9629, -3.9468, -3.9254, -3.8971, -3.8606, -3.8141,\n",
       "        -3.7559, -3.6843, -3.5975, -3.4941, -3.3729, -3.2333, -3.0754, -2.9000,\n",
       "        -2.6886, -2.4832, -2.2696, -2.0530, -1.8390, -1.6338, -1.4434, -1.2732,\n",
       "        -1.1279, -1.0108, -0.9236, -0.8665, -0.8380, -0.8355, -0.8553, -0.8932,\n",
       "        -0.9504, -1.0120, -1.0789, -1.1482, -1.2174, -1.2850, -1.3497, -1.4111,\n",
       "        -1.4687, -1.5226, -1.5727, -1.6192, -1.6620, -1.7013, -1.7371, -1.7693,\n",
       "        -1.8005, -1.8251, -1.8465, -1.8647, -1.8800, -1.8925, -1.9025, -1.9103,\n",
       "        -1.9163, -1.9206, -1.9237, -1.9256, -1.9268, -1.9274, -1.9276, -1.9338,\n",
       "        -2.0003, -2.0664, -2.1265, -2.1816, -2.2326, -2.2803, -2.3253, -2.3679,\n",
       "        -2.4081, -2.4455, -2.4796, -2.5097, -2.5352, -2.5553, -2.5695, -2.5775,\n",
       "        -2.5792, -2.5745, -2.5642, -2.5489, -2.5292, -2.5054, -2.4781, -2.4473,\n",
       "        -2.4132, -2.3756, -2.3346, -2.2902, -2.2425, -2.1922, -2.1399, -2.0867,\n",
       "        -2.0284, -1.9769, -1.9276, -1.8810, -1.8371, -1.7952, -1.7542, -1.7128,\n",
       "        -1.6696, -1.6232, -1.5730, -1.5187, -1.4610, -1.4012, -1.3413, -1.2836,\n",
       "        -1.2255, -1.1801, -1.1435, -1.1171, -1.1014, -1.0967, -1.1028, -1.1193,\n",
       "        -1.1459, -1.1823, -1.2282, -1.2834, -1.3479, -1.4210, -1.5022, -1.5901,\n",
       "        -1.6926, -1.7889, -1.8859, -1.9812, -2.0729, -2.1594, -2.2399, -2.3140,\n",
       "        -2.3821, -2.4451, -2.5038, -2.5596, -2.6132, -2.6652, -2.7159, -2.7696],\n",
       "       dtype=torch.float64, grad_fn=<SelectBackward0>)"
      ]
     },
     "execution_count": 9,
     "metadata": {},
     "output_type": "execute_result"
    }
   ],
   "source": [
    "exp_val"
   ]
  },
  {
   "cell_type": "code",
   "execution_count": 10,
   "metadata": {},
   "outputs": [],
   "source": [
    "# create tensor of times (in ns) where derivative will be evaluated\n",
    "times = torch.linspace(0.0, 1600, 40)\n",
    "\n",
    "# we want to calculate derivative with respect to distance between qubits q0 and q3\n",
    "qq_distances = sim.qq_distances\n",
    "r = qq_distances[\"q0-q3\"]\n",
    "\n",
    "# calculate derivative values at each time\n",
    "diff_params = [omega, q1_coords, r]\n",
    "grads = []\n",
    "for t in times:\n",
    "    grad_param = deriv_param(f=exp_val, x=diff_params, times=eval_times, t=t)\n",
    "    grads.append(torch.hstack(grad_param))\n",
    "grads = torch.stack(grads)"
   ]
  },
  {
   "cell_type": "markdown",
   "metadata": {},
   "source": [
    "Similarly we can calculate derivatives with respect to qubit coordinates."
   ]
  },
  {
   "cell_type": "code",
   "execution_count": 11,
   "metadata": {},
   "outputs": [
    {
     "data": {
      "text/plain": [
       "<matplotlib.legend.Legend at 0x786bd70ac190>"
      ]
     },
     "execution_count": 11,
     "metadata": {},
     "output_type": "execute_result"
    },
    {
     "data": {
      "image/png": "[encoded data removed]",
      "text/plain": [
       "<Figure size 640x480 with 1 Axes>"
      ]
     },
     "metadata": {},
     "output_type": "display_data"
    }
   ],
   "source": [
    "# visualize derivative with respect to amplitude\n",
    "plt.plot(x, y, label=\"f(x)\")\n",
    "plt.scatter(times.numpy()/1000, grads[:,0].numpy(), s=2, label=\"df/d(omega) (auto-diff)\")\n",
    "plt.legend()"
   ]
  },
  {
   "cell_type": "code",
   "execution_count": 12,
   "metadata": {},
   "outputs": [
    {
     "data": {
      "text/plain": [
       "<matplotlib.legend.Legend at 0x786bd4f86e20>"
      ]
     },
     "execution_count": 12,
     "metadata": {},
     "output_type": "execute_result"
    },
    {
     "data": {
      "image/png": "[encoded data removed]",
      "text/plain": [
       "<Figure size 640x480 with 1 Axes>"
      ]
     },
     "metadata": {},
     "output_type": "display_data"
    }
   ],
   "source": [
    "# visualize derivatives with respect to coordinates\n",
    "plt.plot(x, y, label=\"f(x)\")\n",
    "plt.scatter(times.numpy()/1000, grads[:,1].numpy(), s=2, label=\"df/d(x_coord) (auto-diff)\")\n",
    "plt.scatter(times.numpy()/1000, grads[:,2].numpy(), s=2, label=\"df/d(y_coord) (auto-diff)\")\n",
    "plt.legend()"
   ]
  },
  {
   "cell_type": "code",
   "execution_count": 13,
   "metadata": {},
   "outputs": [
    {
     "data": {
      "text/plain": [
       "<matplotlib.legend.Legend at 0x786bd4ed24f0>"
      ]
     },
     "execution_count": 13,
     "metadata": {},
     "output_type": "execute_result"
    },
    {
     "data": {
      "image/png": "[encoded data removed]",
      "text/plain": [
       "<Figure size 640x480 with 1 Axes>"
      ]
     },
     "metadata": {},
     "output_type": "display_data"
    }
   ],
   "source": [
    "# visualize derivative with repsect to inter-qubit distance\n",
    "plt.plot(x, y, label=\"f(x)\")\n",
    "plt.scatter(times.numpy()/1000, grads[:, 3].numpy(), s=2, label=\"df/dr (auto-diff)\")\n",
    "plt.legend()"
   ]
  },
  {
   "cell_type": "markdown",
   "metadata": {},
   "source": [
    "## 2. Sequence optimization"
   ]
  },
  {
   "cell_type": "markdown",
   "metadata": {},
   "source": [
    "In previous section we demonstrated that `pulser-diff` is able to calculate first-order derivatives ${\\rm d}l(\\theta)/{\\rm d}\\theta_{i}$ of some output function $l(\\theta)$ with respect to various parameters of pulses and underlying register $\\theta_i$. This feature can be directly used if one treats `pulser-diff` in the context of machine learning as a framework where one minimizes a loss function by applying gradient-based approaches to optimize the values of underlying system parameters. Here the system is the pulse sequence, loss function can be any function of the output of the state-vecor simulator and the optimizable parameters are pulse, register and observalbe parameters. Let us now demonstrate how such optimization can be performed.\n",
    "\n",
    "Optimization API of `pulser-diff` is built around `QuantumModel` class that enables the conversion of ordinary Pulser sequence into a `torch.nn.Module` that allows seamless integration into usual PyTorch ML workflows including optimizer and scheduler selection as well as optimization loop customization. Let us import the `QuantumModel` object."
   ]
  },
  {
   "cell_type": "code",
   "execution_count": 14,
   "metadata": {},
   "outputs": [],
   "source": [
    "from pulser_diff.model import QuantumModel"
   ]
  },
  {
   "cell_type": "markdown",
   "metadata": {},
   "source": [
    "### 2.1 Toy model optimization"
   ]
  },
  {
   "cell_type": "markdown",
   "metadata": {},
   "source": [
    "To show the basic workflow of sequence optimization we define a toy problem. Let us assume that we need to find the parameters of a pulse sequence such that the expectation value $f(\\theta)=\\left\\langle \\psi(\\theta)\\right|\\hat{C}\\left|\\psi(\\theta)\\right\\rangle $ of an observable $\\hat{C}$ is equal to a predifined value, say $f_0=-0.5$. We can achieve this goal by optimizing any or all parameters from these two groups:\n",
    "\n",
    "1. Pulse parameters - amplitude $\\Omega$, detuning $\\delta$, phase $\\phi$, duration $\\tau_n$\n",
    "2. Register parameters - qubit coordinates $(x_i, y_i)$\n",
    "\n",
    "<div class=\"alert alert-block alert-warning\">\n",
    "<b>Warning:</b> Pulse duration optimization is currently supported for sequences containing only constant pulses.\n",
    "</div>"
   ]
  },
  {
   "cell_type": "markdown",
   "metadata": {},
   "source": [
    "We first define a sequence consisting of one constant and one time-dependent pulse and assume that we want to optimize the amplitude of the constant pulse and the area of the time-dependent one."
   ]
  },
  {
   "cell_type": "code",
   "execution_count": 46,
   "metadata": {},
   "outputs": [],
   "source": [
    "# create register\n",
    "reg = Register.rectangle(1, 2, spacing=8, prefix=\"q\")\n",
    "\n",
    "# create sequence and declare channels\n",
    "seq = Sequence(reg, MockDevice)\n",
    "seq.declare_channel(\"rydberg_global\", \"rydberg_global\")\n",
    "\n",
    "# declare sequence variables\n",
    "omega_param = seq.declare_variable(\"omega\")\n",
    "area_param = seq.declare_variable(\"area\")\n",
    "\n",
    "# create pulses\n",
    "pulse_const = Pulse.ConstantPulse(1000, omega_param, 0.0, 0.0)\n",
    "amp_wf = BlackmanWaveform(800, area_param)\n",
    "det_wf = RampWaveform(800, 5.0, 0.0)\n",
    "pulse_td = Pulse(amp_wf, det_wf, 0)\n",
    "\n",
    "# add pulses\n",
    "seq.add(pulse_const, \"rydberg_global\")\n",
    "seq.add(pulse_td, \"rydberg_global\")"
   ]
  },
  {
   "cell_type": "markdown",
   "metadata": {},
   "source": [
    "The sequence we created is a standard Pulser parametrized sequence as is evident from declaring two variables `omega` for constant pulse's amplitude and `area` for Blackman pulse's area. Generally, `pulser-diff` utilizes Pulser's variable system to denote the sequence parameters that have to be optimized. This works for any pulse parameter that supports Pulser's `Variable` object as an argument.\n",
    "\n",
    "To optimize this sequence we first have to wrap it with a `QuantumModel` object and supply it with initial values for `omega` and `area`."
   ]
  },
  {
   "cell_type": "code",
   "execution_count": 47,
   "metadata": {},
   "outputs": [
    {
     "name": "stdout",
     "output_type": "stream",
     "text": [
      "\n",
      "seq_param_values.area\n",
      "Parameter containing:\n",
      "tensor([3.1416], requires_grad=True)\n",
      "-------\n",
      "seq_param_values.omega\n",
      "Parameter containing:\n",
      "tensor([5.], requires_grad=True)\n",
      "-------\n"
     ]
    }
   ],
   "source": [
    "# define pulse parameters\n",
    "omega = torch.tensor([5.0], requires_grad=True)\n",
    "area = torch.tensor([torch.pi], requires_grad=True)\n",
    "\n",
    "# create quantum model from sequence\n",
    "trainable_params = {\"omega\": omega, \"area\": area}\n",
    "constraints = {\n",
    "    \"omega\": {\"min\": 4.5, \"max\": 5.5}\n",
    "}\n",
    "model = QuantumModel(seq, trainable_params, constraints=constraints, sampling_rate=0.5, solver=SolverType.KRYLOV_SE)\n",
    "\n",
    "# list trainable parameters of the model\n",
    "print()\n",
    "for name, param in model.named_parameters():\n",
    "    print(name)\n",
    "    print(param)\n",
    "    print('-------')"
   ]
  },
  {
   "cell_type": "markdown",
   "metadata": {},
   "source": [
    "We can see from the code snippet above that initial values for the optimizable parameters are given as `torch.Tensor` objects with `requires_grad=True` property. This falls in line with the paradigm of PyTorch of creating a computational graph that facilitates gradient calculations with respect to leaf nodes - in our case the user-created `omega` and `area` tensors. Note that `trainable_params` dict key values must be identical to the Pulser sequence variables defined previously.\n",
    "\n",
    "An optional dict can be passed to `QuantumModel` constructor with argument `constraints`, that defines the min/max range of optimizable parameters. Here we specified that the `omega` parameter value must not fall out of the range $[4.5, 5.5]$. Internally such constraints are enforced by using `torch.clamp` function that allows gradient flow through it and simultaneously keeps the parameter value strictly in range.\n",
    "\n",
    "Finally, we print the optimizable parameters of the created `QuantumModel` instance to confirm that `omega` and `area` are indeed registered and will be visible to the PyTorch optimizer. The optimizer is defined in a standard way along with the loss function that in our case is the simple MSE loss."
   ]
  },
  {
   "cell_type": "code",
   "execution_count": 48,
   "metadata": {},
   "outputs": [],
   "source": [
    "# define loss function and optimizer\n",
    "loss_fn = torch.nn.MSELoss()\n",
    "optimizer = torch.optim.Adam(model.parameters(), lr=0.05)"
   ]
  },
  {
   "cell_type": "markdown",
   "metadata": {},
   "source": [
    "With loss function and optimizer in place we can now construct an optimization loop to solve the problem. "
   ]
  },
  {
   "cell_type": "code",
   "execution_count": 49,
   "metadata": {},
   "outputs": [
    {
     "name": "stdout",
     "output_type": "stream",
     "text": [
      "Initial expectation value: tensor(-1.2763+0.j, dtype=torch.complex128, grad_fn=<SelectBackward0>)\n",
      "\n",
      "[0] loss: 0.602630\n",
      "[1] loss: 0.511404\n",
      "[2] loss: 0.416565\n",
      "[3] loss: 0.323062\n",
      "[4] loss: 0.235741\n",
      "[5] loss: 0.158972\n",
      "[6] loss: 0.096202\n",
      "[7] loss: 0.049484\n",
      "[8] loss: 0.019127\n",
      "[9] loss: 0.003641\n",
      "[10] loss: 0.000086\n",
      "[11] loss: 0.003037\n",
      "[12] loss: 0.005175\n",
      "[13] loss: 0.007339\n",
      "[14] loss: 0.009370\n",
      "[15] loss: 0.011185\n",
      "[16] loss: 0.012749\n",
      "[17] loss: 0.014054\n",
      "[18] loss: 0.015110\n",
      "[19] loss: 0.015934\n",
      "[20] loss: 0.016543\n",
      "[21] loss: 0.016714\n",
      "[22] loss: 0.016053\n",
      "[23] loss: 0.014692\n",
      "[24] loss: 0.012802\n",
      "[25] loss: 0.010579\n",
      "[26] loss: 0.008227\n",
      "[27] loss: 0.005940\n",
      "[28] loss: 0.003890\n",
      "[29] loss: 0.002212\n",
      "[30] loss: 0.000992\n",
      "[31] loss: 0.000264\n",
      "[32] loss: 0.000003\n",
      "\n",
      "Optimized expectation value: tensor(-0.4983+0.j, dtype=torch.complex128, grad_fn=<SelectBackward0>)\n",
      "\n"
     ]
    }
   ],
   "source": [
    "# print initial expectation value as a result of simulating initial sequence\n",
    "_, init_exp_val = model.expectation()\n",
    "print(\"Initial expectation value:\", init_exp_val[-1])\n",
    "print()\n",
    "\n",
    "# optimize model parameters so that the final output expectation value matches the predefined value\n",
    "epochs = 100\n",
    "target_value = torch.tensor(-0.5, dtype=torch.float64)\n",
    "for t in range(epochs):\n",
    "    # calculate prediction and loss\n",
    "    _, exp_val = model.expectation()\n",
    "    loss = loss_fn(exp_val.real[-1], target_value)\n",
    "\n",
    "    # standard backpropagation\n",
    "    loss.backward(retain_graph=True)\n",
    "    optimizer.step()\n",
    "    optimizer.zero_grad()\n",
    "\n",
    "    # enforce constraints on optimizable parameters\n",
    "    model.check_constraints()\n",
    "\n",
    "    print(f\"[{t}] loss: {loss:>7f}\")\n",
    "\n",
    "    if loss < 0.00001:\n",
    "        break\n",
    "\n",
    "    # update sequence with changed pulse parameter values\n",
    "    model.update_sequence()\n",
    "\n",
    "# print expectation value with optimized model\n",
    "_, init_exp_val = model.expectation()\n",
    "print()\n",
    "print(\"Optimized expectation value:\", init_exp_val[-1])\n",
    "print()"
   ]
  },
  {
   "cell_type": "markdown",
   "metadata": {},
   "source": [
    "The optimization loop above folows the standard PyTorch rules with a couple of additions. Namely, we call `check_constraints()` method of the `model` to ensure that all optimizable parameters fall in range with any given constraints. Then `update_sequence()` method is called that reconstructs the underlying Pulser sequence with optimized values of parameters. This concludes a single optimization iteration and prepares for the next one. \n",
    "\n",
    "As we can see, after 32 iterations the loss decreased significantly and the target value of $-0.5$ was achieved with high accuracy. Printing the optimizable parameters of the model confirms that their values indeed changed."
   ]
  },
  {
   "cell_type": "code",
   "execution_count": 50,
   "metadata": {},
   "outputs": [
    {
     "name": "stdout",
     "output_type": "stream",
     "text": [
      "\n",
      "seq_param_values.area Parameter containing:\n",
      "tensor([2.5058], requires_grad=True)\n",
      "-------\n",
      "seq_param_values.omega Parameter containing:\n",
      "tensor([4.6157], requires_grad=True)\n",
      "-------\n"
     ]
    }
   ],
   "source": [
    "print()\n",
    "for name, param in model.named_parameters():\n",
    "    print(name, param)\n",
    "    print('-------')"
   ]
  },
  {
   "cell_type": "markdown",
   "metadata": {},
   "source": [
    "### 2.2 Pulse shape optimization"
   ]
  },
  {
   "cell_type": "code",
   "execution_count": null,
   "metadata": {},
   "outputs": [],
   "source": []
  }
 ],
 "metadata": {
  "kernelspec": {
   "display_name": "pulser-diff",
   "language": "python",
   "name": "python3"
  },
  "language_info": {
   "codemirror_mode": {
    "name": "ipython",
    "version": 3
   },
   "file_extension": ".py",
   "mimetype": "text/x-python",
   "name": "python",
   "nbconvert_exporter": "python",
   "pygments_lexer": "ipython3",
   "version": "3.9.13"
  }
 },
 "nbformat": 4,
 "nbformat_minor": 2
}
