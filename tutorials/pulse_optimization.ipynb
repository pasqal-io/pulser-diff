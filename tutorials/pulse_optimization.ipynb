{
 "cells": [
  {
   "cell_type": "code",
   "execution_count": 1,
   "metadata": {},
   "outputs": [],
   "source": [
    "import torch\n",
    "\n",
    "from pulser_diff.pulser import Sequence, Pulse, Register\n",
    "from pulser_diff.pulser.devices import MockDevice\n",
    "from pulser_diff.pulser.waveforms import BlackmanWaveform, RampWaveform\n",
    "\n",
    "import pulser_diff.dq as dq\n",
    "from pulser_diff.backend import TorchEmulator\n",
    "from pulser_diff.derivative import deriv_time, deriv_param\n",
    "from pulser_diff.model import QuantumModel\n",
    "\n",
    "from tqdm import tqdm\n",
    "\n",
    "import matplotlib.pyplot as plt\n",
    "from scipy import interpolate"
   ]
  },
  {
   "cell_type": "markdown",
   "metadata": {},
   "source": [
    "### Toy optimization problem"
   ]
  },
  {
   "cell_type": "code",
   "execution_count": 2,
   "metadata": {},
   "outputs": [],
   "source": [
    "# create register\n",
    "reg = Register.rectangle(1, 2, spacing=8, prefix=\"q\")"
   ]
  },
  {
   "cell_type": "code",
   "execution_count": 3,
   "metadata": {},
   "outputs": [],
   "source": [
    "# create sequence and declare channels\n",
    "seq = Sequence(reg, MockDevice)\n",
    "seq.declare_channel(\"rydberg_global\", \"rydberg_global\")"
   ]
  },
  {
   "cell_type": "code",
   "execution_count": 4,
   "metadata": {},
   "outputs": [],
   "source": [
    "# define pulse parameters\n",
    "omega = torch.tensor([5.0], requires_grad=True)\n",
    "area = torch.tensor([torch.pi], requires_grad=True)"
   ]
  },
  {
   "cell_type": "code",
   "execution_count": 5,
   "metadata": {},
   "outputs": [],
   "source": [
    "# declare sequence variables\n",
    "omega_param = seq.declare_variable(\"omega\")\n",
    "area_param = seq.declare_variable(\"area\")"
   ]
  },
  {
   "cell_type": "code",
   "execution_count": 6,
   "metadata": {},
   "outputs": [],
   "source": [
    "# create pulses\n",
    "pulse_const = Pulse.ConstantPulse(1000, omega_param, 0.0, 0.0)\n",
    "amp_wf = BlackmanWaveform(800, area_param)\n",
    "det_wf = RampWaveform(800, 5.0, 0.0)\n",
    "pulse_td = Pulse(amp_wf, det_wf, 0)\n",
    "\n",
    "# add pulses\n",
    "seq.add(pulse_const, \"rydberg_global\")\n",
    "seq.add(pulse_td, \"rydberg_global\")"
   ]
  },
  {
   "cell_type": "code",
   "execution_count": 7,
   "metadata": {},
   "outputs": [
    {
     "name": "stdout",
     "output_type": "stream",
     "text": [
      "\n",
      "trainable_params.area\n",
      "Parameter containing:\n",
      "tensor([3.1416], requires_grad=True)\n",
      "-------\n",
      "trainable_params.omega\n",
      "Parameter containing:\n",
      "tensor([5.], requires_grad=True)\n",
      "-------\n"
     ]
    }
   ],
   "source": [
    "# create quantum model from sequence\n",
    "trainable_params = {\"omega\": omega, \"area\": area}\n",
    "model = QuantumModel(seq, trainable_params, sampling_rate=0.5, solver=\"krylov\")\n",
    "\n",
    "# list trainable parameters of the model\n",
    "print()\n",
    "for name, param in model.named_parameters():\n",
    "    print(name)\n",
    "    print(param)\n",
    "    print('-------')"
   ]
  },
  {
   "cell_type": "code",
   "execution_count": 8,
   "metadata": {},
   "outputs": [],
   "source": [
    "# define loss function and optimizer\n",
    "loss_fn = torch.nn.MSELoss()\n",
    "optimizer = torch.optim.SGD(model.parameters(), lr=1e-1)"
   ]
  },
  {
   "cell_type": "code",
   "execution_count": 9,
   "metadata": {},
   "outputs": [
    {
     "name": "stdout",
     "output_type": "stream",
     "text": [
      "Initial expectation value: tensor(-1.2782+0.j, grad_fn=<SelectBackward0>)\n",
      "\n",
      "loss: 0.605560\n",
      "loss: 0.433920\n",
      "loss: 0.252128\n",
      "loss: 0.119507\n",
      "loss: 0.050335\n",
      "loss: 0.020542\n",
      "loss: 0.008450\n",
      "loss: 0.003535\n",
      "loss: 0.001501\n",
      "loss: 0.000645\n",
      "loss: 0.000280\n",
      "loss: 0.000122\n",
      "loss: 0.000053\n",
      "loss: 0.000023\n",
      "loss: 0.000010\n",
      "loss: 0.000005\n",
      "loss: 0.000002\n",
      "loss: 0.000001\n",
      "loss: 0.000000\n",
      "loss: 0.000000\n",
      "\n",
      "Optimized expectation value: tensor(-0.5003+0.j, grad_fn=<SelectBackward0>)\n",
      "\n"
     ]
    }
   ],
   "source": [
    "# print initial expectation value as a result of simulating initial sequence\n",
    "_, init_exp_val = model.expectation()\n",
    "print(\"Initial expectation value:\", init_exp_val[-1])\n",
    "print()\n",
    "\n",
    "# optimize model parameters so that the final output expectation value matches the predefined value\n",
    "epochs = 20\n",
    "target_value = torch.tensor(-0.5)\n",
    "for t in range(epochs):\n",
    "    # calcualte prediction and loss\n",
    "    evaluation_times, exp_val = model.expectation()\n",
    "    loss = loss_fn(exp_val.real[-1], target_value)\n",
    "\n",
    "    # backpropagation\n",
    "    loss.backward()\n",
    "    optimizer.step()\n",
    "    optimizer.zero_grad()\n",
    "\n",
    "    # update sequence with changed pulse parameter values\n",
    "    model.update_sequence()\n",
    "\n",
    "    print(f\"loss: {loss:>7f}\")\n",
    "\n",
    "# print expectation value with optimized model\n",
    "_, init_exp_val = model.expectation()\n",
    "print()\n",
    "print(\"Optimized expectation value:\", init_exp_val[-1])\n",
    "print()"
   ]
  },
  {
   "cell_type": "markdown",
   "metadata": {},
   "source": [
    "We can print the optimized values of amplitude of the constant pulse `omega` and the area of the Blackman pulse `area`:"
   ]
  },
  {
   "cell_type": "code",
   "execution_count": 10,
   "metadata": {},
   "outputs": [
    {
     "name": "stdout",
     "output_type": "stream",
     "text": [
      "\n",
      "trainable_params.area\n",
      "Parameter containing:\n",
      "tensor([2.7814], requires_grad=True)\n",
      "-------\n",
      "trainable_params.omega\n",
      "Parameter containing:\n",
      "tensor([4.4623], requires_grad=True)\n",
      "-------\n"
     ]
    }
   ],
   "source": [
    "print()\n",
    "for name, param in model.named_parameters():\n",
    "    print(name)\n",
    "    print(param)\n",
    "    print('-------')"
   ]
  },
  {
   "cell_type": "markdown",
   "metadata": {},
   "source": [
    "The values of both parameters were optimized in order to minimize the provided loss function"
   ]
  },
  {
   "cell_type": "code",
   "execution_count": null,
   "metadata": {},
   "outputs": [],
   "source": []
  },
  {
   "cell_type": "code",
   "execution_count": null,
   "metadata": {},
   "outputs": [],
   "source": []
  },
  {
   "cell_type": "code",
   "execution_count": null,
   "metadata": {},
   "outputs": [],
   "source": []
  },
  {
   "cell_type": "code",
   "execution_count": null,
   "metadata": {},
   "outputs": [],
   "source": []
  },
  {
   "cell_type": "markdown",
   "metadata": {},
   "source": [
    "### QUBO problem solution with QAOA"
   ]
  },
  {
   "cell_type": "code",
   "execution_count": 11,
   "metadata": {},
   "outputs": [],
   "source": [
    "import numpy as np\n",
    "import matplotlib.pyplot as plt\n",
    "from pulser_diff.pulser import Pulse, Sequence, Register\n",
    "from pulser_diff.pulser_simulation import QutipEmulator\n",
    "from pulser_diff.pulser.devices import Chadoq2\n",
    "from pulser_diff.pulser.waveforms import InterpolatedWaveform\n",
    "from scipy.optimize import minimize\n",
    "from scipy.spatial.distance import pdist, squareform"
   ]
  },
  {
   "cell_type": "code",
   "execution_count": 12,
   "metadata": {},
   "outputs": [],
   "source": [
    "Q = np.array(\n",
    "    [\n",
    "        [-10.0, 19.7365809, 19.7365809],\n",
    "        [19.7365809, -10.0, 20.67626392],\n",
    "        [19.7365809, 20.67626392, -10.0],\n",
    "    ]\n",
    ")"
   ]
  },
  {
   "cell_type": "code",
   "execution_count": 13,
   "metadata": {},
   "outputs": [
    {
     "name": "stdout",
     "output_type": "stream",
     "text": [
      "[('001', -10.0), ('010', -10.0), ('100', -10.0)]\n"
     ]
    }
   ],
   "source": [
    "bitstrings = [np.binary_repr(i, len(Q)) for i in range(2 ** len(Q))]\n",
    "costs = []\n",
    "# this takes exponential time with the dimension of the QUBO\n",
    "for b in bitstrings:\n",
    "    z = np.array(list(b), dtype=int)\n",
    "    cost = z.T @ Q @ z\n",
    "    costs.append(cost)\n",
    "zipped = zip(bitstrings, costs)\n",
    "sort_zipped = sorted(zipped, key=lambda x: x[1])\n",
    "print(sort_zipped[:3])"
   ]
  },
  {
   "cell_type": "code",
   "execution_count": 14,
   "metadata": {},
   "outputs": [],
   "source": [
    "def evaluate_mapping(new_coords, *args):\n",
    "    \"\"\"Cost function to minimize. Ideally, the pairwise\n",
    "    distances are conserved\"\"\"\n",
    "    Q, shape = args\n",
    "    new_coords = np.reshape(new_coords, shape)\n",
    "    new_Q = squareform(Chadoq2.interaction_coeff / pdist(new_coords) ** 6)\n",
    "    return np.linalg.norm(new_Q - Q)"
   ]
  },
  {
   "cell_type": "code",
   "execution_count": 15,
   "metadata": {},
   "outputs": [],
   "source": [
    "shape = (len(Q), 2)\n",
    "costs = []\n",
    "np.random.seed(0)\n",
    "x0 = np.random.random(shape).flatten()\n",
    "res = minimize(\n",
    "    evaluate_mapping,\n",
    "    x0,\n",
    "    args=(Q, shape),\n",
    "    method=\"Nelder-Mead\",\n",
    "    tol=1e-6,\n",
    "    options={\"maxiter\": 200000, \"maxfev\": None},\n",
    ")\n",
    "coords = np.reshape(res.x, (len(Q), 2))"
   ]
  },
  {
   "cell_type": "code",
   "execution_count": 16,
   "metadata": {},
   "outputs": [
    {
     "data": {
      "image/png": "[encoded data removed]",
      "text/plain": [
       "<Figure size 400x400 with 1 Axes>"
      ]
     },
     "metadata": {},
     "output_type": "display_data"
    }
   ],
   "source": [
    "qubits = dict(enumerate(coords))\n",
    "reg = Register(qubits)\n",
    "reg.draw(\n",
    "    blockade_radius=Chadoq2.rydberg_blockade_radius(1.0),\n",
    "    draw_graph=False,\n",
    "    draw_half_radius=True,\n",
    ")"
   ]
  },
  {
   "cell_type": "code",
   "execution_count": 17,
   "metadata": {},
   "outputs": [
    {
     "name": "stdout",
     "output_type": "stream",
     "text": [
      "Channel: ch0\n",
      "t: 0 | Initial targets: 0, 1, 2 | Phase Reference: 0.0 \n",
      "t: 0->1000 | Detuned Delay | Detuning: 1 rad/µs\n",
      "\n",
      "\n"
     ]
    },
    {
     "name": "stderr",
     "output_type": "stream",
     "text": [
      "/tmp/ipykernel_46639/3049915425.py:1: DeprecationWarning: The 'Chadoq2' device has been deprecated. For a similar device combining global and local addressing, consider using `DigitalAnalogDevice`.\n",
      "  seq = Sequence(reg, Chadoq2)\n"
     ]
    }
   ],
   "source": [
    "seq = Sequence(reg, Chadoq2)\n",
    "seq.declare_channel(\"ch0\", \"rydberg_global\")\n",
    "pulse_2 = Pulse.ConstantPulse(1000, 0.0, 1.0, 0)\n",
    "seq.add(pulse_2, \"ch0\")\n",
    "\n",
    "print(seq)\n",
    "\n",
    "simul = QutipEmulator.from_sequence(seq, sampling_rate=0.1)\n",
    "results = simul.run()"
   ]
  },
  {
   "cell_type": "code",
   "execution_count": 18,
   "metadata": {},
   "outputs": [
    {
     "data": {
      "text/plain": [
       "(array([57.14942062+0.j, 17.73658172+0.j, 17.7365796 +0.j, -1.        +0.j,\n",
       "        18.67625931+0.j, -1.        +0.j, -1.        +0.j,  0.        +0.j]),\n",
       " array([[1.+0.j, 0.+0.j, 0.+0.j, 0.+0.j, 0.+0.j, 0.+0.j, 0.+0.j, 0.+0.j],\n",
       "        [0.+0.j, 1.+0.j, 0.+0.j, 0.+0.j, 0.+0.j, 0.+0.j, 0.+0.j, 0.+0.j],\n",
       "        [0.+0.j, 0.+0.j, 1.+0.j, 0.+0.j, 0.+0.j, 0.+0.j, 0.+0.j, 0.+0.j],\n",
       "        [0.+0.j, 0.+0.j, 0.+0.j, 1.+0.j, 0.+0.j, 0.+0.j, 0.+0.j, 0.+0.j],\n",
       "        [0.+0.j, 0.+0.j, 0.+0.j, 0.+0.j, 1.+0.j, 0.+0.j, 0.+0.j, 0.+0.j],\n",
       "        [0.+0.j, 0.+0.j, 0.+0.j, 0.+0.j, 0.+0.j, 1.+0.j, 0.+0.j, 0.+0.j],\n",
       "        [0.+0.j, 0.+0.j, 0.+0.j, 0.+0.j, 0.+0.j, 0.+0.j, 1.+0.j, 0.+0.j],\n",
       "        [0.+0.j, 0.+0.j, 0.+0.j, 0.+0.j, 0.+0.j, 0.+0.j, 0.+0.j, 1.+0.j]]))"
      ]
     },
     "execution_count": 18,
     "metadata": {},
     "output_type": "execute_result"
    }
   ],
   "source": [
    "ham = simul.get_hamiltonian(0).full()\n",
    "np.linalg.eig(ham)"
   ]
  },
  {
   "cell_type": "code",
   "execution_count": 19,
   "metadata": {},
   "outputs": [
    {
     "name": "stderr",
     "output_type": "stream",
     "text": [
      "/tmp/ipykernel_46639/2349451885.py:4: DeprecationWarning: The 'Chadoq2' device has been deprecated. For a similar device combining global and local addressing, consider using `DigitalAnalogDevice`.\n",
      "  seq = Sequence(reg, Chadoq2)\n"
     ]
    }
   ],
   "source": [
    "LAYERS = 2\n",
    "\n",
    "# Parametrized sequence\n",
    "seq = Sequence(reg, Chadoq2)\n",
    "seq.declare_channel(\"ch0\", \"rydberg_global\")\n",
    "\n",
    "variables_amp = {f\"omega{i}\": seq.declare_variable(f\"omega{i}\") for i in range(LAYERS)}\n",
    "variables_det = {f\"det{i}\": seq.declare_variable(f\"det{i}\") for i in range(LAYERS)}\n",
    "\n",
    "for amp, det in zip(variables_amp.items(), variables_det.items()):\n",
    "    pulse_1 = Pulse.ConstantPulse(500, amp[1], 0.0, 0)\n",
    "    pulse_2 = Pulse.ConstantPulse(500, 0.0, det[1], 0)\n",
    "\n",
    "    seq.add(pulse_1, \"ch0\")\n",
    "    seq.add(pulse_2, \"ch0\")\n",
    "\n",
    "seq.measure(\"ground-rydberg\")"
   ]
  },
  {
   "cell_type": "code",
   "execution_count": 20,
   "metadata": {},
   "outputs": [
    {
     "name": "stdout",
     "output_type": "stream",
     "text": [
      "Prelude\n",
      "-------\n",
      "Channel: ch0\n",
      "t: 0 | Initial targets: 0, 1, 2 | Phase Reference: 0.0 \n",
      "\n",
      "Stored calls\n",
      "------------\n",
      "\n",
      "1. add(Pulse(ConstantWaveform(500, omega0[0]), 0 rad/µs, 0, 0.0), ch0)\n",
      "\n",
      "2. add(Pulse(0 rad/µs, ConstantWaveform(500, det0[0]), 0, 0.0), ch0)\n",
      "\n",
      "3. add(Pulse(ConstantWaveform(500, omega1[0]), 0 rad/µs, 0, 0.0), ch0)\n",
      "\n",
      "4. add(Pulse(0 rad/µs, ConstantWaveform(500, det1[0]), 0, 0.0), ch0)\n",
      "\n",
      "5. measure(ground-rydberg)\n"
     ]
    }
   ],
   "source": [
    "print(seq)"
   ]
  },
  {
   "cell_type": "code",
   "execution_count": 21,
   "metadata": {},
   "outputs": [],
   "source": [
    "trainable_params = {}\n",
    "values_amp = {f\"omega{i}\": torch.tensor([1.0], requires_grad=True) for i in range(LAYERS)}\n",
    "values_det = {f\"det{i}\": torch.tensor([1.0], requires_grad=True) for i in range(LAYERS)}\n",
    "trainable_params.update(values_amp)\n",
    "trainable_params.update(values_det)\n",
    "model = QuantumModel(seq, trainable_params, sampling_rate=0.5, solver=\"krylov\")"
   ]
  },
  {
   "cell_type": "code",
   "execution_count": 22,
   "metadata": {},
   "outputs": [
    {
     "name": "stdout",
     "output_type": "stream",
     "text": [
      "\n",
      "trainable_params.det0\n",
      "Parameter containing:\n",
      "tensor([1.], requires_grad=True)\n",
      "----------\n",
      "trainable_params.det1\n",
      "Parameter containing:\n",
      "tensor([1.], requires_grad=True)\n",
      "----------\n",
      "trainable_params.omega0\n",
      "Parameter containing:\n",
      "tensor([1.], requires_grad=True)\n",
      "----------\n",
      "trainable_params.omega1\n",
      "Parameter containing:\n",
      "tensor([1.], requires_grad=True)\n",
      "----------\n"
     ]
    }
   ],
   "source": [
    "print()\n",
    "for name, param in model.named_parameters():\n",
    "    print(name)\n",
    "    print(param)\n",
    "    print('----------')"
   ]
  },
  {
   "cell_type": "code",
   "execution_count": 23,
   "metadata": {},
   "outputs": [
    {
     "data": {
      "text/plain": [
       "tensor([[57.1494+0.j,  0.0000+0.j,  0.0000+0.j,  0.0000+0.j,  0.0000+0.j,  0.0000+0.j,\n",
       "          0.0000+0.j,  0.0000+0.j],\n",
       "        [ 0.0000+0.j, 17.7366+0.j,  0.0000+0.j,  0.0000+0.j,  0.0000+0.j,  0.0000+0.j,\n",
       "          0.0000+0.j,  0.0000+0.j],\n",
       "        [ 0.0000+0.j,  0.0000+0.j, 17.7366+0.j,  0.0000+0.j,  0.0000+0.j,  0.0000+0.j,\n",
       "          0.0000+0.j,  0.0000+0.j],\n",
       "        [ 0.0000+0.j,  0.0000+0.j,  0.0000+0.j, -1.0000+0.j,  0.0000+0.j,  0.0000+0.j,\n",
       "          0.0000+0.j,  0.0000+0.j],\n",
       "        [ 0.0000+0.j,  0.0000+0.j,  0.0000+0.j,  0.0000+0.j, 18.6763+0.j,  0.0000+0.j,\n",
       "          0.0000+0.j,  0.0000+0.j],\n",
       "        [ 0.0000+0.j,  0.0000+0.j,  0.0000+0.j,  0.0000+0.j,  0.0000+0.j, -1.0000+0.j,\n",
       "          0.0000+0.j,  0.0000+0.j],\n",
       "        [ 0.0000+0.j,  0.0000+0.j,  0.0000+0.j,  0.0000+0.j,  0.0000+0.j,  0.0000+0.j,\n",
       "         -1.0000+0.j,  0.0000+0.j],\n",
       "        [ 0.0000+0.j,  0.0000+0.j,  0.0000+0.j,  0.0000+0.j,  0.0000+0.j,  0.0000+0.j,\n",
       "          0.0000+0.j,  0.0000+0.j]])"
      ]
     },
     "execution_count": 23,
     "metadata": {},
     "output_type": "execute_result"
    }
   ],
   "source": [
    "obs = model._sim.get_hamiltonian(600).to_dense().detach()\n",
    "obs"
   ]
  },
  {
   "cell_type": "code",
   "execution_count": 24,
   "metadata": {},
   "outputs": [
    {
     "data": {
      "text/plain": [
       "tensor(-0.4199+0.j, grad_fn=<SelectBackward0>)"
      ]
     },
     "execution_count": 24,
     "metadata": {},
     "output_type": "execute_result"
    }
   ],
   "source": [
    "model.expectation(obs)[1][-1]"
   ]
  },
  {
   "cell_type": "code",
   "execution_count": 25,
   "metadata": {},
   "outputs": [],
   "source": [
    "loss_fn = torch.nn.MSELoss()\n",
    "\n",
    "optimizer = torch.optim.SGD(model.parameters(), lr=1e-1)"
   ]
  },
  {
   "cell_type": "code",
   "execution_count": 26,
   "metadata": {},
   "outputs": [
    {
     "name": "stdout",
     "output_type": "stream",
     "text": [
      "loss: -0.4199307933809058\n",
      "loss: -0.42651164277832854\n",
      "loss: -0.4323683141350725\n",
      "loss: -0.4375709675021262\n",
      "loss: -0.4421893622539042\n",
      "loss: -0.4462908834137078\n",
      "loss: -0.44993912043018536\n",
      "loss: -0.45319293308806613\n",
      "loss: -0.45610592481971346\n",
      "loss: -0.45872624036354426\n",
      "loss: -0.4610966090049623\n",
      "loss: -0.4632545635066585\n",
      "loss: -0.46523277587867634\n",
      "loss: -0.4670594626398092\n",
      "loss: -0.46875882307516026\n",
      "loss: -0.47035148356653667\n",
      "loss: -0.47185492911679683\n",
      "loss: -0.47328390965129247\n",
      "loss: -0.4746508136945867\n",
      "loss: -0.47596600576043024\n"
     ]
    }
   ],
   "source": [
    "epochs = 20\n",
    "for t in range(epochs):\n",
    "    # Compute prediction and loss\n",
    "    evaluation_times, exp_val = model.expectation(obs)\n",
    "    loss = exp_val.real[-1]\n",
    "    # loss = loss_fn(exp_val.real[-1], torch.tensor(0.0))\n",
    "\n",
    "    x = evaluation_times.detach().numpy()\n",
    "    y = exp_val.real.detach().numpy()\n",
    "\n",
    "\n",
    "    # Backpropagation\n",
    "    loss.backward()\n",
    "    optimizer.step()\n",
    "    optimizer.zero_grad()\n",
    "    model.update_sequence()\n",
    "\n",
    "    print(f\"loss: {loss}\")"
   ]
  },
  {
   "cell_type": "code",
   "execution_count": 27,
   "metadata": {},
   "outputs": [
    {
     "data": {
      "text/plain": [
       "tensor([[3.5465e-06],\n",
       "        [4.1475e-03],\n",
       "        [4.1475e-03],\n",
       "        [2.2674e-01],\n",
       "        [3.0417e-03],\n",
       "        [2.2732e-01],\n",
       "        [2.2732e-01],\n",
       "        [3.0729e-01]], grad_fn=<PowBackward0>)"
      ]
     },
     "execution_count": 27,
     "metadata": {},
     "output_type": "execute_result"
    }
   ],
   "source": [
    "torch.abs(model()[1][-1])**2"
   ]
  },
  {
   "cell_type": "code",
   "execution_count": null,
   "metadata": {},
   "outputs": [],
   "source": []
  },
  {
   "cell_type": "code",
   "execution_count": null,
   "metadata": {},
   "outputs": [],
   "source": []
  },
  {
   "cell_type": "code",
   "execution_count": 28,
   "metadata": {},
   "outputs": [],
   "source": [
    "def quantum_loop(parameters):\n",
    "    params = np.array(parameters)\n",
    "    t_params, s_params = np.reshape(params.astype(int), (2, LAYERS))\n",
    "    assigned_seq = seq.build(t_list=t_params, s_list=s_params)\n",
    "    simul = QutipEmulator.from_sequence(assigned_seq, sampling_rate=0.01)\n",
    "    results = simul.run()\n",
    "    count_dict = results.sample_final_state()  # sample from the state vector\n",
    "    return count_dict"
   ]
  },
  {
   "cell_type": "code",
   "execution_count": 29,
   "metadata": {},
   "outputs": [],
   "source": [
    "np.random.seed(123)  # ensures reproducibility of the tutorial\n",
    "guess = {\n",
    "    \"t\": np.random.uniform(8, 10, LAYERS),\n",
    "    \"s\": np.random.uniform(1, 3, LAYERS),\n",
    "}"
   ]
  },
  {
   "cell_type": "code",
   "execution_count": 30,
   "metadata": {},
   "outputs": [
    {
     "name": "stderr",
     "output_type": "stream",
     "text": [
      "/tmp/ipykernel_46639/1029010566.py:4: UserWarning: No declared variables named: s_list, t_list\n",
      "  assigned_seq = seq.build(t_list=t_params, s_list=s_params)\n"
     ]
    },
    {
     "ename": "TypeError",
     "evalue": "Did not receive values for variables: det0, det1, omega0, omega1",
     "output_type": "error",
     "traceback": [
      "\u001b[0;31m---------------------------------------------------------------------------\u001b[0m",
      "\u001b[0;31mTypeError\u001b[0m                                 Traceback (most recent call last)",
      "\u001b[1;32m/home/vytautas/Projects/pasqal/test/pulser-diff/tutorials/pulse_optimization.ipynb Cell 36\u001b[0m line \u001b[0;36m1\n\u001b[0;32m----> <a href='vscode-notebook-cell:/home/vytautas/Projects/pasqal/test/pulser-diff/tutorials/pulse_optimization.ipynb#X42sZmlsZQ%3D%3D?line=0'>1</a>\u001b[0m example_dict \u001b[39m=\u001b[39m quantum_loop(np\u001b[39m.\u001b[39;49mr_[guess[\u001b[39m\"\u001b[39;49m\u001b[39mt\u001b[39;49m\u001b[39m\"\u001b[39;49m], guess[\u001b[39m\"\u001b[39;49m\u001b[39ms\u001b[39;49m\u001b[39m\"\u001b[39;49m]])\n",
      "\u001b[1;32m/home/vytautas/Projects/pasqal/test/pulser-diff/tutorials/pulse_optimization.ipynb Cell 36\u001b[0m line \u001b[0;36m4\n\u001b[1;32m      <a href='vscode-notebook-cell:/home/vytautas/Projects/pasqal/test/pulser-diff/tutorials/pulse_optimization.ipynb#X42sZmlsZQ%3D%3D?line=1'>2</a>\u001b[0m params \u001b[39m=\u001b[39m np\u001b[39m.\u001b[39marray(parameters)\n\u001b[1;32m      <a href='vscode-notebook-cell:/home/vytautas/Projects/pasqal/test/pulser-diff/tutorials/pulse_optimization.ipynb#X42sZmlsZQ%3D%3D?line=2'>3</a>\u001b[0m t_params, s_params \u001b[39m=\u001b[39m np\u001b[39m.\u001b[39mreshape(params\u001b[39m.\u001b[39mastype(\u001b[39mint\u001b[39m), (\u001b[39m2\u001b[39m, LAYERS))\n\u001b[0;32m----> <a href='vscode-notebook-cell:/home/vytautas/Projects/pasqal/test/pulser-diff/tutorials/pulse_optimization.ipynb#X42sZmlsZQ%3D%3D?line=3'>4</a>\u001b[0m assigned_seq \u001b[39m=\u001b[39m seq\u001b[39m.\u001b[39;49mbuild(t_list\u001b[39m=\u001b[39;49mt_params, s_list\u001b[39m=\u001b[39;49ms_params)\n\u001b[1;32m      <a href='vscode-notebook-cell:/home/vytautas/Projects/pasqal/test/pulser-diff/tutorials/pulse_optimization.ipynb#X42sZmlsZQ%3D%3D?line=4'>5</a>\u001b[0m simul \u001b[39m=\u001b[39m QutipEmulator\u001b[39m.\u001b[39mfrom_sequence(assigned_seq, sampling_rate\u001b[39m=\u001b[39m\u001b[39m0.01\u001b[39m)\n\u001b[1;32m      <a href='vscode-notebook-cell:/home/vytautas/Projects/pasqal/test/pulser-diff/tutorials/pulse_optimization.ipynb#X42sZmlsZQ%3D%3D?line=5'>6</a>\u001b[0m results \u001b[39m=\u001b[39m simul\u001b[39m.\u001b[39mrun()\n",
      "File \u001b[0;32m~/Projects/pasqal/test/pulser-diff/pulser_diff/pulser/sequence/sequence.py:1515\u001b[0m, in \u001b[0;36mSequence.build\u001b[0;34m(self, qubits, **vars)\u001b[0m\n\u001b[1;32m   1509\u001b[0m \u001b[39melif\u001b[39;00m qubits \u001b[39mis\u001b[39;00m \u001b[39mnot\u001b[39;00m \u001b[39mNone\u001b[39;00m:\n\u001b[1;32m   1510\u001b[0m     \u001b[39mraise\u001b[39;00m \u001b[39mValueError\u001b[39;00m(\n\u001b[1;32m   1511\u001b[0m         \u001b[39m\"\u001b[39m\u001b[39m'\u001b[39m\u001b[39mqubits\u001b[39m\u001b[39m'\u001b[39m\u001b[39m must not be specified when the sequence already has \u001b[39m\u001b[39m\"\u001b[39m\n\u001b[1;32m   1512\u001b[0m         \u001b[39m\"\u001b[39m\u001b[39ma concrete register.\u001b[39m\u001b[39m\"\u001b[39m\n\u001b[1;32m   1513\u001b[0m     )\n\u001b[0;32m-> 1515\u001b[0m \u001b[39mself\u001b[39;49m\u001b[39m.\u001b[39;49m_cross_check_vars(\u001b[39mvars\u001b[39;49m)\n\u001b[1;32m   1517\u001b[0m \u001b[39m# Shallow copy with stored parametrized objects (if any)\u001b[39;00m\n\u001b[1;32m   1518\u001b[0m \u001b[39m# NOTE: While seq is a shallow copy, be extra careful with changes to\u001b[39;00m\n\u001b[1;32m   1519\u001b[0m \u001b[39m# attributes of seq pointing to mutable objects, as they might be\u001b[39;00m\n\u001b[1;32m   1520\u001b[0m \u001b[39m# inadvertedly done to self too\u001b[39;00m\n\u001b[1;32m   1521\u001b[0m seq \u001b[39m=\u001b[39m copy\u001b[39m.\u001b[39mcopy(\u001b[39mself\u001b[39m)\n",
      "File \u001b[0;32m~/Projects/pasqal/test/pulser-diff/pulser_diff/pulser/sequence/sequence.py:2240\u001b[0m, in \u001b[0;36mSequence._cross_check_vars\u001b[0;34m(self, vars)\u001b[0m\n\u001b[1;32m   2238\u001b[0m missing_vars \u001b[39m=\u001b[39m all_keys \u001b[39m-\u001b[39m given_keys\n\u001b[1;32m   2239\u001b[0m \u001b[39mif\u001b[39;00m missing_vars:\n\u001b[0;32m-> 2240\u001b[0m     \u001b[39mraise\u001b[39;00m \u001b[39mTypeError\u001b[39;00m(\n\u001b[1;32m   2241\u001b[0m         \u001b[39m\"\u001b[39m\u001b[39mDid not receive values for variables: \u001b[39m\u001b[39m\"\u001b[39m \u001b[39m+\u001b[39m \u001b[39m\"\u001b[39m\u001b[39m, \u001b[39m\u001b[39m\"\u001b[39m\u001b[39m.\u001b[39mjoin(missing_vars)\n\u001b[1;32m   2242\u001b[0m     )\n",
      "\u001b[0;31mTypeError\u001b[0m: Did not receive values for variables: det0, det1, omega0, omega1"
     ]
    }
   ],
   "source": [
    "example_dict = quantum_loop(np.r_[guess[\"t\"], guess[\"s\"]])"
   ]
  },
  {
   "cell_type": "code",
   "execution_count": null,
   "metadata": {},
   "outputs": [],
   "source": [
    "def plot_distribution(C):\n",
    "    C = dict(sorted(C.items(), key=lambda item: item[1], reverse=True))\n",
    "    indexes = [\"001\", \"100\", \"010\"]  # QUBO solutions\n",
    "    color_dict = {key: \"r\" if key in indexes else \"g\" for key in C}\n",
    "    plt.figure(figsize=(12, 6))\n",
    "    plt.xlabel(\"bitstrings\")\n",
    "    plt.ylabel(\"counts\")\n",
    "    plt.bar(C.keys(), C.values(), width=0.5, color=color_dict.values())\n",
    "    plt.xticks(rotation=\"vertical\")\n",
    "    plt.show()"
   ]
  },
  {
   "cell_type": "code",
   "execution_count": null,
   "metadata": {},
   "outputs": [
    {
     "data": {
      "image/png": "[encoded data removed]",
      "text/plain": [
       "<Figure size 1200x600 with 1 Axes>"
      ]
     },
     "metadata": {},
     "output_type": "display_data"
    }
   ],
   "source": [
    "plot_distribution(example_dict)"
   ]
  },
  {
   "cell_type": "code",
   "execution_count": null,
   "metadata": {},
   "outputs": [],
   "source": [
    "def get_cost_colouring(bitstring, Q):\n",
    "    z = np.array(list(bitstring), dtype=int)\n",
    "    cost = z.T @ Q @ z\n",
    "    return cost\n",
    "\n",
    "\n",
    "def get_cost(counter, Q):\n",
    "    cost = sum(counter[key] * get_cost_colouring(key, Q) for key in counter)\n",
    "    return cost / sum(counter.values())  # Divide by total samples"
   ]
  },
  {
   "cell_type": "code",
   "execution_count": null,
   "metadata": {},
   "outputs": [],
   "source": [
    "def func(param, *args):\n",
    "    Q = args[0]\n",
    "    C = quantum_loop(param)\n",
    "    cost = get_cost(C, Q)\n",
    "    return cost"
   ]
  },
  {
   "cell_type": "code",
   "execution_count": null,
   "metadata": {},
   "outputs": [],
   "source": [
    "scores = []\n",
    "params = []\n",
    "for repetition in range(20):\n",
    "    guess = {\n",
    "        \"t\": np.random.uniform(1, 10, LAYERS),\n",
    "        \"s\": np.random.uniform(1, 10, LAYERS),\n",
    "    }\n",
    "\n",
    "    try:\n",
    "        res = minimize(\n",
    "            func,\n",
    "            args=Q,\n",
    "            x0=np.r_[guess[\"t\"], guess[\"s\"]],\n",
    "            method=\"Nelder-Mead\",\n",
    "            tol=1e-5,\n",
    "            options={\"maxiter\": 10},\n",
    "        )\n",
    "        scores.append(res.fun)\n",
    "        params.append(res.x)\n",
    "    except Exception as e:\n",
    "        pass"
   ]
  },
  {
   "cell_type": "code",
   "execution_count": null,
   "metadata": {},
   "outputs": [
    {
     "data": {
      "image/png": "[encoded data removed]",
      "text/plain": [
       "<Figure size 1200x600 with 1 Axes>"
      ]
     },
     "metadata": {},
     "output_type": "display_data"
    }
   ],
   "source": [
    "optimal_count_dict = quantum_loop(params[np.argmin(scores)])\n",
    "plot_distribution(optimal_count_dict)"
   ]
  },
  {
   "cell_type": "code",
   "execution_count": null,
   "metadata": {},
   "outputs": [],
   "source": []
  }
 ],
 "metadata": {
  "kernelspec": {
   "display_name": "qucint",
   "language": "python",
   "name": "python3"
  },
  "language_info": {
   "codemirror_mode": {
    "name": "ipython",
    "version": 3
   },
   "file_extension": ".py",
   "mimetype": "text/x-python",
   "name": "python",
   "nbconvert_exporter": "python",
   "pygments_lexer": "ipython3",
   "version": "3.10.0"
  }
 },
 "nbformat": 4,
 "nbformat_minor": 2
}
